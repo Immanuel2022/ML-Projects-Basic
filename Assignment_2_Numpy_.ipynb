{
  "nbformat": 4,
  "nbformat_minor": 0,
  "metadata": {
    "colab": {
      "provenance": [],
      "authorship_tag": "ABX9TyMXxHKm5xaj2/WSorB8wMyV",
      "include_colab_link": true
    },
    "kernelspec": {
      "name": "python3",
      "display_name": "Python 3"
    },
    "language_info": {
      "name": "python"
    }
  },
  "cells": [
    {
      "cell_type": "markdown",
      "metadata": {
        "id": "view-in-github",
        "colab_type": "text"
      },
      "source": [
        "<a href=\"https://colab.research.google.com/github/Immanuel2022/ML-Projects-Basic/blob/main/Assignment_2_Numpy_.ipynb\" target=\"_parent\"><img src=\"https://colab.research.google.com/assets/colab-badge.svg\" alt=\"Open In Colab\"/></a>"
      ]
    },
    {
      "cell_type": "code",
      "execution_count": 4,
      "metadata": {
        "colab": {
          "base_uri": "https://localhost:8080/"
        },
        "id": "uunmjJZkHnTq",
        "outputId": "2bdf4326-660c-4adf-b859-aefde4c63017"
      },
      "outputs": [
        {
          "output_type": "execute_result",
          "data": {
            "text/plain": [
              "array([[113,  94, 129, 122, 111, 142,  45,  41],\n",
              "       [105,  79, 110,  35,  80,  59,  70,  74],\n",
              "       [ 43,  88,  42,  56,  73,  93,  92,  70],\n",
              "       [126,  22,  78,  21,  41, 119, 105,  61],\n",
              "       [ 69, 136, 121,  60,  43, 131,  41,  73],\n",
              "       [ 79,  85,  39, 105,  87,  79,  39, 130]])"
            ]
          },
          "metadata": {},
          "execution_count": 4
        }
      ],
      "source": [
        "# Array Creation:\n",
        "# Create a 2D Numpy array of shape (6, 8) with random integer values between 20 and 150. Find the mean, median, and standard deviation of the array.\n",
        "\n",
        "import numpy as np\n",
        "\n",
        "arr = np.random.randint(20,150, size=(6,8))\n",
        "arr"
      ]
    },
    {
      "cell_type": "code",
      "source": [
        "# Column Statistics:\n",
        "# Using the above-created array, calculate the sum and variance of each column.\n",
        "\n",
        "arr.sum()\n"
      ],
      "metadata": {
        "colab": {
          "base_uri": "https://localhost:8080/"
        },
        "id": "W7AAYOZBI2LM",
        "outputId": "cdb718af-cec1-49c0-d477-c56a39f586b8"
      },
      "execution_count": 5,
      "outputs": [
        {
          "output_type": "execute_result",
          "data": {
            "text/plain": [
              "3856"
            ]
          },
          "metadata": {},
          "execution_count": 5
        }
      ]
    },
    {
      "cell_type": "code",
      "source": [
        "arr.std()"
      ],
      "metadata": {
        "colab": {
          "base_uri": "https://localhost:8080/"
        },
        "id": "1kCYAmU0JDIb",
        "outputId": "75480b89-dd58-4272-83d8-88eb9c25dd95"
      },
      "execution_count": 6,
      "outputs": [
        {
          "output_type": "execute_result",
          "data": {
            "text/plain": [
              "32.74671315143281"
            ]
          },
          "metadata": {},
          "execution_count": 6
        }
      ]
    },
    {
      "cell_type": "code",
      "source": [
        "# Subsetting Columns:\n",
        "# Select columns 3 through 6 of the array and calculate the product of their values.\n",
        "\n",
        "arr1 = arr[:,3:7]\n",
        "arr1"
      ],
      "metadata": {
        "colab": {
          "base_uri": "https://localhost:8080/"
        },
        "id": "LmZDKRkTJMQj",
        "outputId": "66c8b7f8-c8b7-422a-d1d8-920d00ba4d72"
      },
      "execution_count": 10,
      "outputs": [
        {
          "output_type": "execute_result",
          "data": {
            "text/plain": [
              "array([[122, 111, 142,  45],\n",
              "       [ 35,  80,  59,  70],\n",
              "       [ 56,  73,  93,  92],\n",
              "       [ 21,  41, 119, 105],\n",
              "       [ 60,  43, 131,  41],\n",
              "       [105,  87,  79,  39]])"
            ]
          },
          "metadata": {},
          "execution_count": 10
        }
      ]
    },
    {
      "cell_type": "code",
      "source": [
        "arr1.prod()"
      ],
      "metadata": {
        "colab": {
          "base_uri": "https://localhost:8080/"
        },
        "id": "JHs5At3yJ9Ew",
        "outputId": "b8bd2416-46a1-40ff-839a-bb99cdeb1843"
      },
      "execution_count": 12,
      "outputs": [
        {
          "output_type": "execute_result",
          "data": {
            "text/plain": [
              "5613142391501111296"
            ]
          },
          "metadata": {},
          "execution_count": 12
        }
      ]
    },
    {
      "cell_type": "code",
      "source": [
        "# Flatten the Array:\n",
        "# Flatten the array into a 1D array and reshape it into both (2, 24) and (24, 2) shapes.\n",
        "\n",
        "arr1.shape"
      ],
      "metadata": {
        "colab": {
          "base_uri": "https://localhost:8080/"
        },
        "id": "gMGQFTg3KaWj",
        "outputId": "a1f4c8fd-0d13-46d3-dfd1-be312d0aa40d"
      },
      "execution_count": 14,
      "outputs": [
        {
          "output_type": "execute_result",
          "data": {
            "text/plain": [
              "(6, 4)"
            ]
          },
          "metadata": {},
          "execution_count": 14
        }
      ]
    },
    {
      "cell_type": "code",
      "source": [
        "arr1.ravel()"
      ],
      "metadata": {
        "colab": {
          "base_uri": "https://localhost:8080/"
        },
        "id": "28pm0XJlK0Rr",
        "outputId": "45232c48-112c-4c04-9926-21dc7849e431"
      },
      "execution_count": 16,
      "outputs": [
        {
          "output_type": "execute_result",
          "data": {
            "text/plain": [
              "array([122, 111, 142,  45,  35,  80,  59,  70,  56,  73,  93,  92,  21,\n",
              "        41, 119, 105,  60,  43, 131,  41, 105,  87,  79,  39])"
            ]
          },
          "metadata": {},
          "execution_count": 16
        }
      ]
    },
    {
      "cell_type": "code",
      "source": [
        "arr1.reshape(2,12)"
      ],
      "metadata": {
        "colab": {
          "base_uri": "https://localhost:8080/"
        },
        "id": "ovm7OAcmK8cQ",
        "outputId": "53f7c870-3146-4884-ed21-276cc9c27ab1"
      },
      "execution_count": 18,
      "outputs": [
        {
          "output_type": "execute_result",
          "data": {
            "text/plain": [
              "array([[122, 111, 142,  45,  35,  80,  59,  70,  56,  73,  93,  92],\n",
              "       [ 21,  41, 119, 105,  60,  43, 131,  41, 105,  87,  79,  39]])"
            ]
          },
          "metadata": {},
          "execution_count": 18
        }
      ]
    },
    {
      "cell_type": "code",
      "source": [
        "arr1.reshape(12,2)"
      ],
      "metadata": {
        "colab": {
          "base_uri": "https://localhost:8080/"
        },
        "id": "OprJreMfLHUr",
        "outputId": "55e8b892-eb68-461a-bc0f-c69eb9d7beaa"
      },
      "execution_count": 19,
      "outputs": [
        {
          "output_type": "execute_result",
          "data": {
            "text/plain": [
              "array([[122, 111],\n",
              "       [142,  45],\n",
              "       [ 35,  80],\n",
              "       [ 59,  70],\n",
              "       [ 56,  73],\n",
              "       [ 93,  92],\n",
              "       [ 21,  41],\n",
              "       [119, 105],\n",
              "       [ 60,  43],\n",
              "       [131,  41],\n",
              "       [105,  87],\n",
              "       [ 79,  39]])"
            ]
          },
          "metadata": {},
          "execution_count": 19
        }
      ]
    },
    {
      "cell_type": "code",
      "source": [
        "# Reshaping to 3D:\n",
        "# Reshape the original 2D array into a 3D array of shape (4, 3, 2).\n",
        "\n",
        "arr1.reshape(4,3,2)"
      ],
      "metadata": {
        "colab": {
          "base_uri": "https://localhost:8080/"
        },
        "id": "lFZbZKktLYFQ",
        "outputId": "c34aa88d-6cfa-48ae-ebc7-19e1ef2f2777"
      },
      "execution_count": 21,
      "outputs": [
        {
          "output_type": "execute_result",
          "data": {
            "text/plain": [
              "array([[[122, 111],\n",
              "        [142,  45],\n",
              "        [ 35,  80]],\n",
              "\n",
              "       [[ 59,  70],\n",
              "        [ 56,  73],\n",
              "        [ 93,  92]],\n",
              "\n",
              "       [[ 21,  41],\n",
              "        [119, 105],\n",
              "        [ 60,  43]],\n",
              "\n",
              "       [[131,  41],\n",
              "        [105,  87],\n",
              "        [ 79,  39]]])"
            ]
          },
          "metadata": {},
          "execution_count": 21
        }
      ]
    },
    {
      "cell_type": "code",
      "source": [
        "# Combine 1D Arrays:\n",
        "# Create two 1D arrays of size 15 with random integers between 5 and 50. Combine them into a single 2D array with three columns.\n",
        "\n",
        "arr2 = np.random.randint(5,50,size = (15))\n",
        "arr2\n"
      ],
      "metadata": {
        "colab": {
          "base_uri": "https://localhost:8080/"
        },
        "id": "w_WC8ZtSLkeX",
        "outputId": "1806d0ea-9f4d-48d1-d06f-ee46891fd6b8"
      },
      "execution_count": 24,
      "outputs": [
        {
          "output_type": "execute_result",
          "data": {
            "text/plain": [
              "array([21, 43, 39, 13, 49, 34, 47, 25, 39, 47, 10,  8, 38,  8, 41])"
            ]
          },
          "metadata": {},
          "execution_count": 24
        }
      ]
    },
    {
      "cell_type": "code",
      "source": [
        "arr3 = np.random.randint(5,50,size = (15))\n",
        "arr3"
      ],
      "metadata": {
        "colab": {
          "base_uri": "https://localhost:8080/"
        },
        "id": "VianedUtMNXy",
        "outputId": "8280f4dd-b2e8-4ec3-96c9-76290a25dd02"
      },
      "execution_count": 25,
      "outputs": [
        {
          "output_type": "execute_result",
          "data": {
            "text/plain": [
              "array([ 6, 12, 47, 38, 24, 18, 41, 10, 47, 33, 25, 37, 13, 23, 38])"
            ]
          },
          "metadata": {},
          "execution_count": 25
        }
      ]
    },
    {
      "cell_type": "code",
      "source": [
        "arr4 = np.column_stack((arr2, arr3))\n",
        "arr4"
      ],
      "metadata": {
        "colab": {
          "base_uri": "https://localhost:8080/"
        },
        "id": "CzClb5_2NSHJ",
        "outputId": "139447bc-c27a-4777-af78-3bcc3fdd58cc"
      },
      "execution_count": 29,
      "outputs": [
        {
          "output_type": "execute_result",
          "data": {
            "text/plain": [
              "array([[21,  6],\n",
              "       [43, 12],\n",
              "       [39, 47],\n",
              "       [13, 38],\n",
              "       [49, 24],\n",
              "       [34, 18],\n",
              "       [47, 41],\n",
              "       [25, 10],\n",
              "       [39, 47],\n",
              "       [47, 33],\n",
              "       [10, 25],\n",
              "       [ 8, 37],\n",
              "       [38, 13],\n",
              "       [ 8, 23],\n",
              "       [41, 38]])"
            ]
          },
          "metadata": {},
          "execution_count": 29
        }
      ]
    },
    {
      "cell_type": "code",
      "source": [
        "arr4.reshape(10,3)"
      ],
      "metadata": {
        "colab": {
          "base_uri": "https://localhost:8080/"
        },
        "id": "8yStGIaONoD-",
        "outputId": "65294291-32e9-471b-c443-1cc9797ee218"
      },
      "execution_count": 30,
      "outputs": [
        {
          "output_type": "execute_result",
          "data": {
            "text/plain": [
              "array([[21,  6, 43],\n",
              "       [12, 39, 47],\n",
              "       [13, 38, 49],\n",
              "       [24, 34, 18],\n",
              "       [47, 41, 25],\n",
              "       [10, 39, 47],\n",
              "       [47, 33, 10],\n",
              "       [25,  8, 37],\n",
              "       [38, 13,  8],\n",
              "       [23, 41, 38]])"
            ]
          },
          "metadata": {},
          "execution_count": 30
        }
      ]
    },
    {
      "cell_type": "code",
      "source": [
        "# Dot Product:\n",
        "# Calculate the dot product of the two 1D arrays created in the previous question after reshaping them to (3, 5).\n",
        "arr5 = arr2.reshape(3,5)\n",
        "arr5"
      ],
      "metadata": {
        "colab": {
          "base_uri": "https://localhost:8080/"
        },
        "id": "uSbk11kROR3Z",
        "outputId": "c8ced7d5-b395-42d7-97f5-1554879381bc"
      },
      "execution_count": 34,
      "outputs": [
        {
          "output_type": "execute_result",
          "data": {
            "text/plain": [
              "array([[21, 43, 39, 13, 49],\n",
              "       [34, 47, 25, 39, 47],\n",
              "       [10,  8, 38,  8, 41]])"
            ]
          },
          "metadata": {},
          "execution_count": 34
        }
      ]
    },
    {
      "cell_type": "code",
      "source": [
        "arr6 = arr3.reshape(3,5)\n",
        "arr6"
      ],
      "metadata": {
        "colab": {
          "base_uri": "https://localhost:8080/"
        },
        "id": "fTE6W2ooOq10",
        "outputId": "c210925f-5ebd-4028-c0d0-a187c47de1d5"
      },
      "execution_count": 35,
      "outputs": [
        {
          "output_type": "execute_result",
          "data": {
            "text/plain": [
              "array([[ 6, 12, 47, 38, 24],\n",
              "       [18, 41, 10, 47, 33],\n",
              "       [25, 37, 13, 23, 38]])"
            ]
          },
          "metadata": {},
          "execution_count": 35
        }
      ]
    },
    {
      "cell_type": "code",
      "source": [
        "arr5*arr6"
      ],
      "metadata": {
        "colab": {
          "base_uri": "https://localhost:8080/"
        },
        "id": "nNv3HRW8O-yy",
        "outputId": "323514c7-d52c-448d-e243-0fc4c9ef10de"
      },
      "execution_count": 36,
      "outputs": [
        {
          "output_type": "execute_result",
          "data": {
            "text/plain": [
              "array([[ 126,  516, 1833,  494, 1176],\n",
              "       [ 612, 1927,  250, 1833, 1551],\n",
              "       [ 250,  296,  494,  184, 1558]])"
            ]
          },
          "metadata": {},
          "execution_count": 36
        }
      ]
    },
    {
      "cell_type": "code",
      "source": [
        "# Using Linspace:\n",
        "# Use np.linspace to create a 1D array with 20 equally spaced values between 10 and 100. Reshape this array into a 4x5 matrix.\n",
        "\n",
        "arr7 = np.linspace(10,100,20)\n",
        "arr7"
      ],
      "metadata": {
        "colab": {
          "base_uri": "https://localhost:8080/"
        },
        "id": "lxeqhLHzPGd1",
        "outputId": "39f9c8ad-5453-40d7-ed93-9ed5f98c03ba"
      },
      "execution_count": 37,
      "outputs": [
        {
          "output_type": "execute_result",
          "data": {
            "text/plain": [
              "array([ 10.        ,  14.73684211,  19.47368421,  24.21052632,\n",
              "        28.94736842,  33.68421053,  38.42105263,  43.15789474,\n",
              "        47.89473684,  52.63157895,  57.36842105,  62.10526316,\n",
              "        66.84210526,  71.57894737,  76.31578947,  81.05263158,\n",
              "        85.78947368,  90.52631579,  95.26315789, 100.        ])"
            ]
          },
          "metadata": {},
          "execution_count": 37
        }
      ]
    },
    {
      "cell_type": "code",
      "source": [
        "arr7.reshape(4,5)"
      ],
      "metadata": {
        "colab": {
          "base_uri": "https://localhost:8080/"
        },
        "id": "dTSzAxYHPVtU",
        "outputId": "2792b35f-71eb-4ea4-b2e1-d24a615b6755"
      },
      "execution_count": 38,
      "outputs": [
        {
          "output_type": "execute_result",
          "data": {
            "text/plain": [
              "array([[ 10.        ,  14.73684211,  19.47368421,  24.21052632,\n",
              "         28.94736842],\n",
              "       [ 33.68421053,  38.42105263,  43.15789474,  47.89473684,\n",
              "         52.63157895],\n",
              "       [ 57.36842105,  62.10526316,  66.84210526,  71.57894737,\n",
              "         76.31578947],\n",
              "       [ 81.05263158,  85.78947368,  90.52631579,  95.26315789,\n",
              "        100.        ]])"
            ]
          },
          "metadata": {},
          "execution_count": 38
        }
      ]
    },
    {
      "cell_type": "code",
      "source": [
        "# Normalize an Array:\n",
        "# Generate an array of 30 random floats between 0.5 and 5. Normalize the array so that all values fall between -1 and 1.\n",
        "\n",
        "arr8 = np.random.rand(20)\n",
        "\n",
        "#(xi - mean) / std\n",
        "\n",
        "u = np.mean(arr8)\n",
        "s = np.std(arr8)\n",
        "\n",
        "(arr8-u)/s"
      ],
      "metadata": {
        "colab": {
          "base_uri": "https://localhost:8080/"
        },
        "id": "GxyY-UXuQXZV",
        "outputId": "230b20ba-b2c1-4f63-cb25-5effa3aeaaaf"
      },
      "execution_count": 39,
      "outputs": [
        {
          "output_type": "execute_result",
          "data": {
            "text/plain": [
              "array([-0.55418213,  0.1704653 ,  0.95925662,  2.09786065, -0.70090368,\n",
              "       -0.91677058,  0.81617063, -0.44823857, -0.2625367 , -2.18372801,\n",
              "        0.35712158, -0.80922582,  1.22956587,  0.20771248,  0.92076406,\n",
              "        1.03545373, -1.1341107 , -1.07052321,  0.67950581, -0.39365733])"
            ]
          },
          "metadata": {},
          "execution_count": 39
        }
      ]
    },
    {
      "cell_type": "code",
      "source": [
        "# Population Analysis:\n",
        "# Simulate population data of 8 cities over 15 years using a random integer array (15x8, values between 100,000 and 1,000,000).\n",
        "#Calculate the average population for each city.\n",
        "\n",
        "arr9 = np.random.randint(100000,1000000,size=(15,8))\n",
        "arr9"
      ],
      "metadata": {
        "colab": {
          "base_uri": "https://localhost:8080/"
        },
        "id": "Tzbh1jsRRL4v",
        "outputId": "b1f142cf-1767-410a-99da-b754a2668f1d"
      },
      "execution_count": 40,
      "outputs": [
        {
          "output_type": "execute_result",
          "data": {
            "text/plain": [
              "array([[531773, 355797, 288389, 891434, 735369, 211196, 181594, 839071],\n",
              "       [106221, 138074, 738683, 144875, 556560, 543031, 528673, 383415],\n",
              "       [310111, 118169, 634619, 243660, 475153, 941073, 272887, 572315],\n",
              "       [915764, 885010, 157380, 416828, 174386, 857113, 323639, 884955],\n",
              "       [448909, 733043, 715943, 920526, 879093, 184383, 330755, 142024],\n",
              "       [305244, 528863, 654940, 594677, 166630, 384633, 824339, 866776],\n",
              "       [548560, 468132, 698205, 796802, 303512, 984927, 712832, 690118],\n",
              "       [724862, 335104, 701935, 317470, 523754, 389835, 477924, 766130],\n",
              "       [633651, 605841, 349801, 207770, 138794, 839290, 546087, 652474],\n",
              "       [336336, 138732, 322423, 860547, 907506, 717734, 890488, 985971],\n",
              "       [148261, 492772, 101990, 985337, 273360, 465619, 718147, 170197],\n",
              "       [801097, 671038, 429987, 544314, 110696, 139169, 345914, 720973],\n",
              "       [107124, 845939, 767318, 233429, 118378, 231656, 213622, 677649],\n",
              "       [320340, 546476, 382879, 143800, 610096, 923470, 735747, 413256],\n",
              "       [221191, 781069, 510049, 107046, 905554, 341454, 928703, 992403]])"
            ]
          },
          "metadata": {},
          "execution_count": 40
        }
      ]
    },
    {
      "cell_type": "code",
      "source": [
        "arr9.mean(axis=0)"
      ],
      "metadata": {
        "colab": {
          "base_uri": "https://localhost:8080/"
        },
        "id": "yUolFiy8Rzse",
        "outputId": "7223d1ef-d2b1-4f36-d0fd-380bca611588"
      },
      "execution_count": 42,
      "outputs": [
        {
          "output_type": "execute_result",
          "data": {
            "text/plain": [
              "array([430629.6       , 509603.93333333, 496969.4       , 493901.        ,\n",
              "       458589.4       , 543638.86666667, 535423.4       , 650515.13333333])"
            ]
          },
          "metadata": {},
          "execution_count": 42
        }
      ]
    }
  ]
}